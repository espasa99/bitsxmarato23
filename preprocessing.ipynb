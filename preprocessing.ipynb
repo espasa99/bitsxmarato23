{
 "cells": [
  {
   "cell_type": "code",
   "execution_count": 2,
   "metadata": {},
   "outputs": [],
   "source": [
    "import pandas as pd\n",
    "import numpy as np\n",
    "import matplotlib.pyplot as plt\n",
    "import seaborn as sns\n",
    "import os"
   ]
  },
  {
   "cell_type": "code",
   "execution_count": 7,
   "metadata": {},
   "outputs": [],
   "source": [
    "df_1 = pd.read_excel(\"./data/1_raw_data/dataset_1/1.xlsx\")\n",
    "df_2 = pd.read_excel(\"./data/1_raw_data/dataset_1/2.xlsx\")\n",
    "df_3 = pd.read_excel(\"./data/1_raw_data/dataset_1/3.xlsx\")\n",
    "df_4 = pd.read_excel(\"./data/1_raw_data/dataset_1/4.xlsx\")"
   ]
  },
  {
   "cell_type": "code",
   "execution_count": 12,
   "metadata": {},
   "outputs": [
    {
     "data": {
      "text/plain": [
       "Index(['Sample ID', 'Firmicutes', 'Proteobacteria', 'Actinobacteria',\n",
       "       'Tenericutes', 'Bacteroidetes', 'Armatimonadetes', 'Spirochaetes',\n",
       "       'Planctomycetes', 'Verrucomicrobia', 'Chloroflexi', 'Chrysiogenetes',\n",
       "       'Aquificae', 'Fusobacteria', 'Chlorobi', 'Gemmatimonadetes',\n",
       "       'Synergistetes', 'Thermotogae', 'Candidatus.Bipolaricaulota',\n",
       "       'Candidatus.Saccharibacteria', 'Deinococcus.Thermus', 'Cyanobacteria',\n",
       "       'Deferribacteres', 'Dictyoglomi', 'Balneolaeota', 'Fibrobacteres',\n",
       "       'Chlamydiae', 'Acidobacteria', 'Kiritimatiellaeota', 'Nitrospirae',\n",
       "       'candidate.division.Zixibacteria', 'Thermodesulfobacteria'],\n",
       "      dtype='object')"
      ]
     },
     "execution_count": 12,
     "metadata": {},
     "output_type": "execute_result"
    }
   ],
   "source": [
    "df_2.columns\n"
   ]
  }
 ],
 "metadata": {
  "kernelspec": {
   "display_name": "Python 3",
   "language": "python",
   "name": "python3"
  },
  "language_info": {
   "codemirror_mode": {
    "name": "ipython",
    "version": 3
   },
   "file_extension": ".py",
   "mimetype": "text/x-python",
   "name": "python",
   "nbconvert_exporter": "python",
   "pygments_lexer": "ipython3",
   "version": "3.10.11"
  }
 },
 "nbformat": 4,
 "nbformat_minor": 2
}
